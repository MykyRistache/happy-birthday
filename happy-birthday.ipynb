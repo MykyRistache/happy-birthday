{
 "cells": [
  {
   "cell_type": "code",
   "execution_count": 4,
   "metadata": {},
   "outputs": [],
   "source": [
    "from datetime import datetime, timedelta\n",
    "from random import randint"
   ]
  },
  {
   "cell_type": "code",
   "execution_count": 5,
   "metadata": {},
   "outputs": [],
   "source": [
    "def get_birthdays_per_week(users):\n",
    " birthdays_per_week = dictionar(list)\n",
    " today = data_curenta\n",
    " for user in users:\n",
    "    name = user[\"name\"]\n",
    "    birthday == user[\"birthday\"].date()\n",
    "    birthday_in_years == birthday.replace(year = today.year)\n",
    "\n",
    " if birthday_in_years < today:\n",
    "    birthday_in_years == birthday_in_years.repalce(year=today.year + 1)\n",
    "    delta_days = (birthdays_in_years-today). days\n",
    "\n",
    " if 0 <= delta_days<7:\n",
    "    birthday = birthday_in_years.strftime(\"% A\")\n",
    "\n",
    " if birthday == \"Saturday\" or birthday == \"Sunday\":\n",
    "    birthday = \"Monday\"\n",
    "    birthday_per_week[birthday].append(name)\n",
    " for day, users in birthdays_per_week.items():\n",
    "  print(f\"{day},greet:\")\n",
    "  for user in users:\n",
    "    print(f\"{user['name']}\")\n",
    "  \n",
    "  f.close()\n",
    "\n",
    " users= [\n",
    "    {\"name\": \"Bill Gates\", \"birthday\": data(1955, 10, 28)},\n",
    "    {\"name\": \"Jan Koum\", \"birthday\": data(1976, 2, 24)},\n",
    "    {\"name\": \"Kim Kardashian\", \"birthday\": data(1980, 10, 21)},\n",
    "    {\"name\": \"Jill Valentine\", \"birthday\": data(1974, 11, 30)},\n",
    "    {\"name\": \"John Doe\", \"birthday\": data(1990, 3, 12)}  // 20-3-2024\n",
    "]\n",
    " get_birthdays_per_week(users)\n"
   ]
  },
  {
   "cell_type": "code",
   "execution_count": null,
   "metadata": {},
   "outputs": [],
   "source": [
    "Task 2"
   ]
  },
  {
   "cell_type": "code",
   "execution_count": 7,
   "metadata": {},
   "outputs": [],
   "source": [
    "\n",
    "mesaj = \"How can I help you?\"\n",
    "hello_string= f\"hello,{mesaj}\""
   ]
  },
  {
   "cell_type": "code",
   "execution_count": 8,
   "metadata": {},
   "outputs": [
    {
     "data": {
      "text/plain": [
       "'hello,How can I help you?'"
      ]
     },
     "execution_count": 8,
     "metadata": {},
     "output_type": "execute_result"
    }
   ],
   "source": [
    "hello_string"
   ]
  },
  {
   "cell_type": "code",
   "execution_count": 9,
   "metadata": {},
   "outputs": [
    {
     "name": "stdout",
     "output_type": "stream",
     "text": [
      "\n",
      "1. Add contact\n",
      "2. Change contact\n",
      "3. Find phone number by name\n",
      "4. Show all contacts\n",
      "5. Exit\n",
      "Goodbye!\n"
     ]
    }
   ],
   "source": [
    "contacts = {}\n",
    "\n",
    "def add_contact(name, phone):\n",
    "    contacts[name] = phone\n",
    "    print(\"Contact added.\")\n",
    "\n",
    "def change_contact(name, new_phone):\n",
    "    if name in contacts:\n",
    "        contacts[name] = new_phone\n",
    "        print(\"Contact updated.\")\n",
    "    else:\n",
    "        print(\"Contact not found.\")\n",
    "\n",
    "def find_phone(name):\n",
    "    if name in contacts:\n",
    "        print(f\"{name}'s phone number: {contacts[name]}\")\n",
    "    else:\n",
    "        print(\"Contact not found.\")\n",
    "\n",
    "def show_all():\n",
    "    if contacts:\n",
    "        print(\"All saved contacts:\")\n",
    "        for name, phone in contacts.items():\n",
    "            print(f\"Name: {name}, Phone: {phone}\")\n",
    "    else:\n",
    "        print(\"No contacts saved.\")\n",
    "\n",
    "# Test the functionalities\n",
    "while True:\n",
    "    print(\"\\n1. Add contact\")\n",
    "    print(\"2. Change contact\")\n",
    "    print(\"3. Find phone number by name\")\n",
    "    print(\"4. Show all contacts\")\n",
    "    print(\"5. Exit\")\n",
    "    choice = input(\"Enter your choice: \")\n",
    "\n",
    "    if choice == \"1\":\n",
    "        name = input(\"Enter name: \")\n",
    "        phone = input(\"Enter phone number: \")\n",
    "        add_contact(name, phone)\n",
    "    elif choice == \"2\":\n",
    "        name = input(\"Enter name whose phone number you want to change: \")\n",
    "        new_phone = input(\"Enter new phone number: \")\n",
    "        change_contact(name, new_phone)\n",
    "    elif choice == \"3\":\n",
    "        name = input(\"Enter name to find phone number: \")\n",
    "        find_phone(name)\n",
    "    elif choice == \"4\":\n",
    "        show_all()\n",
    "    elif choice == \"5\":\n",
    "        print(\"Goodbye!\")\n",
    "        break\n",
    "    else:\n",
    "        print(\"Invalid choice. Please try again.\")\n"
   ]
  }
 ],
 "metadata": {
  "kernelspec": {
   "display_name": "Python 3",
   "language": "python",
   "name": "python3"
  },
  "language_info": {
   "codemirror_mode": {
    "name": "ipython",
    "version": 3
   },
   "file_extension": ".py",
   "mimetype": "text/x-python",
   "name": "python",
   "nbconvert_exporter": "python",
   "pygments_lexer": "ipython3",
   "version": "3.12.2"
  }
 },
 "nbformat": 4,
 "nbformat_minor": 2
}
