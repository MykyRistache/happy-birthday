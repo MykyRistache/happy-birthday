{
 "cells": [
  {
   "cell_type": "code",
   "execution_count": 2,
   "metadata": {},
   "outputs": [],
   "source": [
    "def input_error(func):\n",
    "    def wrapper(*args, **kwargs):\n",
    "        try:\n",
    "            return func(*args, **kwargs)\n",
    "        except ValueError as ve:\n",
    "            return \"ValueError: \" + str(ve)\n",
    "        except KeyError as ke:\n",
    "            return \"KeyError: \" + str(ke)\n",
    "        except IndexError as ie:\n",
    "            return \"IndexError: \" + str(ie)\n",
    "    return wrapper\n",
    "\n",
    "\n",
    "@input_error\n",
    "def add_contact(name, phone):\n",
    "    contacts[name] = phone\n",
    "    return \"Contact added successfully!\"\n",
    "\n",
    "@input_error\n",
    "def remove_contact(name):\n",
    "    del contacts[name]\n",
    "    return \"Contact removed successfully!\"\n",
    "\n",
    "@input_error\n",
    "def get_contact(name):\n",
    "    return contacts[name]"
   ]
  }
 ],
 "metadata": {
  "kernelspec": {
   "display_name": "Python 3",
   "language": "python",
   "name": "python3"
  },
  "language_info": {
   "codemirror_mode": {
    "name": "ipython",
    "version": 3
   },
   "file_extension": ".py",
   "mimetype": "text/x-python",
   "name": "python",
   "nbconvert_exporter": "python",
   "pygments_lexer": "ipython3",
   "version": "3.12.2"
  }
 },
 "nbformat": 4,
 "nbformat_minor": 2
}
